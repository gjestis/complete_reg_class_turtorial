{
 "cells": [
  {
   "cell_type": "markdown",
   "source": [
    "# Complete regression Example using Housing Prices"
   ],
   "metadata": {
    "collapsed": false,
    "pycharm": {
     "name": "#%% md\n"
    }
   }
  },
  {
   "cell_type": "markdown",
   "source": [
    "__The Machine learning workflow__:\n",
    "Remember, as data scientists we want a consistent process to getting great results. That’s where the machine learning workflow comes in.\n",
    "There are five core steps:\n",
    "    -__Exploratory Analysis__ – First, “get to know” the data. This step should be quick, efficient, and decisive.\n",
    "    -__Data Cleaning__ – Then, clean your data to avoid many common pitfalls. Better data beats fancier algorithms.\n",
    "    -__Feature Engineering__ – Next, help your algorithms “focus” on what’s important by creating new features.\n",
    "    -__Algorithm Selection__ – Choose the best, most appropriate algorithms without wasting your time.\n",
    "    -__Model Training__ – Finally, train your models. This step is pretty formulaic once you’ve done the first four."
   ],
   "metadata": {
    "collapsed": false,
    "pycharm": {
     "name": "#%% md\n"
    }
   }
  },
  {
   "cell_type": "code",
   "execution_count": null,
   "outputs": [],
   "source": [],
   "metadata": {
    "collapsed": false,
    "pycharm": {
     "name": "#%%\n"
    }
   }
  }
 ],
 "metadata": {
  "kernelspec": {
   "display_name": "Python 3",
   "language": "python",
   "name": "python3"
  },
  "language_info": {
   "codemirror_mode": {
    "name": "ipython",
    "version": 2
   },
   "file_extension": ".py",
   "mimetype": "text/x-python",
   "name": "python",
   "nbconvert_exporter": "python",
   "pygments_lexer": "ipython2",
   "version": "2.7.6"
  }
 },
 "nbformat": 4,
 "nbformat_minor": 0
}