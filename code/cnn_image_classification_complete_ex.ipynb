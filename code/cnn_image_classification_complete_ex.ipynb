{
 "cells": [
  {
   "cell_type": "markdown",
   "source": [
    "# Classifying and extracting features of an artist using Convolutional Neural Network"
   ],
   "metadata": {
    "collapsed": false
   }
  },
  {
   "cell_type": "markdown",
   "source": [
    "By training a CNN to classify paintings according to an artist, it is possible to extract each image coordinates according to a high dimensional feature space. This is done by removing the classification layer (last layer) of the trained CNN. These new coordinates will serve as the base for different dimensional reduction techniques in order to visualise the results using Collection Space Navigator.\n",
    "\n",
    "Add"
   ],
   "metadata": {
    "collapsed": false
   }
  },
  {
   "cell_type": "code",
   "execution_count": null,
   "outputs": [],
   "source": [],
   "metadata": {
    "collapsed": false
   }
  }
 ],
 "metadata": {
  "kernelspec": {
   "display_name": "Python 3",
   "language": "python",
   "name": "python3"
  },
  "language_info": {
   "codemirror_mode": {
    "name": "ipython",
    "version": 2
   },
   "file_extension": ".py",
   "mimetype": "text/x-python",
   "name": "python",
   "nbconvert_exporter": "python",
   "pygments_lexer": "ipython2",
   "version": "2.7.6"
  }
 },
 "nbformat": 4,
 "nbformat_minor": 0
}
